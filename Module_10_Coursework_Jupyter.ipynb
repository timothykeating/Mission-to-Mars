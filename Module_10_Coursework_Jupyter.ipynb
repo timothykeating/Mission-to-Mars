{
 "cells": [
  {
   "cell_type": "code",
   "execution_count": 1,
   "id": "eb3653a9",
   "metadata": {},
   "outputs": [],
   "source": [
    "##########################\n",
    "# 10.3.2\n",
    "# Practice with Splinter and BeautifulSoup\n",
    "##########################"
   ]
  },
  {
   "cell_type": "code",
   "execution_count": 2,
   "id": "b2ecfcbf",
   "metadata": {},
   "outputs": [],
   "source": [
    "from splinter import Browser\n",
    "from bs4 import BeautifulSoup as soup\n",
    "from webdriver_manager.chrome import ChromeDriverManager\n",
    "import pandas as pd"
   ]
  },
  {
   "cell_type": "code",
   "execution_count": 3,
   "id": "dfa0e783",
   "metadata": {},
   "outputs": [
    {
     "name": "stderr",
     "output_type": "stream",
     "text": [
      "\n",
      "\n",
      "====== WebDriver manager ======\n",
      "Current google-chrome version is 96.0.4664\n",
      "Get LATEST chromedriver version for 96.0.4664 google-chrome\n",
      "Driver [C:\\Users\\timot\\.wdm\\drivers\\chromedriver\\win32\\96.0.4664.45\\chromedriver.exe] found in cache\n"
     ]
    }
   ],
   "source": [
    "# Set up Splinter\n",
    "executable_path = {'executable_path': ChromeDriverManager().install()}\n",
    "browser = Browser('chrome', **executable_path, headless=False)"
   ]
  },
  {
   "cell_type": "code",
   "execution_count": 4,
   "id": "6bf48f6e",
   "metadata": {},
   "outputs": [],
   "source": [
    "# http://quotes.toscrape.com/"
   ]
  },
  {
   "cell_type": "code",
   "execution_count": 5,
   "id": "878f5ae2",
   "metadata": {},
   "outputs": [],
   "source": [
    "# Scrape the Top 10 Tags\n",
    "\n",
    "###\n",
    "\n",
    "# Visit the Quotes to Scrape site\n",
    "url = 'http://quotes.toscrape.com/'\n",
    "browser.visit(url)"
   ]
  },
  {
   "cell_type": "code",
   "execution_count": 6,
   "id": "eed1bd5b",
   "metadata": {},
   "outputs": [],
   "source": [
    "# Parse the HTML\n",
    "html = browser.html\n",
    "html_soup = soup(html, 'html.parser')"
   ]
  },
  {
   "cell_type": "code",
   "execution_count": 7,
   "id": "6b4e5af6",
   "metadata": {},
   "outputs": [
    {
     "data": {
      "text/plain": [
       "'Top Ten tags'"
      ]
     },
     "execution_count": 7,
     "metadata": {},
     "output_type": "execute_result"
    }
   ],
   "source": [
    "# Scrape the Title - use .text at the end to grab the text only\n",
    "title = html_soup.find('h2').text\n",
    "title\n",
    "\n",
    "# IMPORTANT\n",
    "# There are two methods used to find tags and attributes with BeautifulSoup:\n",
    "\n",
    "# .find() is used when we want only the first class and attribute we've specified.\n",
    "# .find_all() is used when we want to retrieve all of the tags and attributes."
   ]
  },
  {
   "cell_type": "code",
   "execution_count": 8,
   "id": "f3ce25df",
   "metadata": {},
   "outputs": [
    {
     "data": {
      "text/plain": [
       "[<a class=\"tag\" href=\"/tag/love/\" style=\"font-size: 28px\">love</a>,\n",
       " <a class=\"tag\" href=\"/tag/inspirational/\" style=\"font-size: 26px\">inspirational</a>,\n",
       " <a class=\"tag\" href=\"/tag/life/\" style=\"font-size: 26px\">life</a>,\n",
       " <a class=\"tag\" href=\"/tag/humor/\" style=\"font-size: 24px\">humor</a>,\n",
       " <a class=\"tag\" href=\"/tag/books/\" style=\"font-size: 22px\">books</a>,\n",
       " <a class=\"tag\" href=\"/tag/reading/\" style=\"font-size: 14px\">reading</a>,\n",
       " <a class=\"tag\" href=\"/tag/friendship/\" style=\"font-size: 10px\">friendship</a>,\n",
       " <a class=\"tag\" href=\"/tag/friends/\" style=\"font-size: 8px\">friends</a>,\n",
       " <a class=\"tag\" href=\"/tag/truth/\" style=\"font-size: 8px\">truth</a>,\n",
       " <a class=\"tag\" href=\"/tag/simile/\" style=\"font-size: 6px\">simile</a>]"
      ]
     },
     "execution_count": 8,
     "metadata": {},
     "output_type": "execute_result"
    }
   ],
   "source": [
    "# Scrape the top ten tags\n",
    "tag_box = html_soup.find('div', class_='tags-box')\n",
    "\n",
    "# tag_box\n",
    "tags = tag_box.find_all('a', class_='tag')\n",
    "\n",
    "# without using .text, we grab the whole line\n",
    "tags"
   ]
  },
  {
   "cell_type": "code",
   "execution_count": 9,
   "id": "deedc307",
   "metadata": {},
   "outputs": [
    {
     "name": "stdout",
     "output_type": "stream",
     "text": [
      "love\n",
      "inspirational\n",
      "life\n",
      "humor\n",
      "books\n",
      "reading\n",
      "friendship\n",
      "friends\n",
      "truth\n",
      "simile\n"
     ]
    }
   ],
   "source": [
    "# now using .text again to only grab the text\n",
    "for tag in tags:\n",
    "    word = tag.text\n",
    "    print(word)"
   ]
  },
  {
   "cell_type": "code",
   "execution_count": null,
   "id": "4c7be75b",
   "metadata": {},
   "outputs": [],
   "source": [
    "# In the next cell, we'll create a for loop that will do the following:\n",
    "\n",
    "# Create a BeautifulSoup object\n",
    "# Find all the quotes on the page\n",
    "# Print each quote from the page\n",
    "# Click the \"Next\" button at the bottom of the page\n",
    "# We'll use range(1, 6) in our for loop to visit the first five pages of the website."
   ]
  },
  {
   "cell_type": "code",
   "execution_count": null,
   "id": "26a874b0",
   "metadata": {},
   "outputs": [],
   "source": [
    "for x in range(1, 6):\n",
    "    html = browser.html\n",
    "    quote_soup = soup(html, 'html.parser')\n",
    "    quotes = quote_soup.find_all('span', class_='text')\n",
    "    \n",
    "    for quote in quotes:\n",
    "        print('page:', x, '----------')\n",
    "        print(quote.text)\n",
    "        \n",
    "    browser.links.find_by_partial_text('Next').click()"
   ]
  },
  {
   "cell_type": "code",
   "execution_count": null,
   "id": "170051a7",
   "metadata": {},
   "outputs": [],
   "source": [
    "# SKILL DRILL\n",
    "# Stretch your scraping skills by visiting Books to Scrape (Links to an external site.) \n",
    "# and scraping the book URL list on the first page.\n",
    "\n",
    "# Visit the Books to Scrape site\n",
    "url2 = 'http://books.toscrape.com/'\n",
    "browser.visit(url2)\n",
    "\n",
    "# Parse the HTML\n",
    "html = browser.html\n",
    "html_soup = soup(html, 'html.parser')\n",
    "\n",
    "# bookurls occur at <h3 />'s\n",
    "\n",
    "bookurls = html_soup.find_all('h3')\n",
    "bookurls"
   ]
  },
  {
   "cell_type": "code",
   "execution_count": null,
   "id": "8d39d9b1",
   "metadata": {},
   "outputs": [],
   "source": [
    "# i can't figure out how to scrape the URL, only title...(???)\n",
    "for book in bookurls:\n",
    "    site = book.text\n",
    "    print(site)"
   ]
  },
  {
   "cell_type": "code",
   "execution_count": null,
   "id": "133d5bf9",
   "metadata": {},
   "outputs": [],
   "source": []
  },
  {
   "cell_type": "code",
   "execution_count": null,
   "id": "77e42851",
   "metadata": {},
   "outputs": [],
   "source": []
  },
  {
   "cell_type": "code",
   "execution_count": null,
   "id": "97994625",
   "metadata": {},
   "outputs": [],
   "source": []
  },
  {
   "cell_type": "code",
   "execution_count": null,
   "id": "64c015dc",
   "metadata": {},
   "outputs": [],
   "source": [
    "##########################\n",
    "# 10.3.3\n",
    "# Scrape Mars Data: The News\n",
    "##########################"
   ]
  },
  {
   "cell_type": "code",
   "execution_count": null,
   "id": "5f8fcb3f",
   "metadata": {},
   "outputs": [],
   "source": [
    "# Visit the mars nasa news site\n",
    "url3 = 'https://redplanetscience.com'\n",
    "browser.visit(url3)\n",
    "\n",
    "# Optional delay for loading the page\n",
    "browser.is_element_present_by_css('div.list_text', wait_time=1)\n",
    "\n",
    "# wait_time =1 ...\n",
    "# The optional delay is useful because sometimes dynamic pages take a little while to load"
   ]
  },
  {
   "cell_type": "code",
   "execution_count": null,
   "id": "b162c77c",
   "metadata": {},
   "outputs": [],
   "source": [
    "html3 = browser.html\n",
    "news_soup = soup(html3, 'html.parser')\n",
    "slide_elem = news_soup.select_one('div.list_text')\n",
    "slide_elem\n",
    "\n",
    "# Notice how we've assigned slide_elem as the variable to look for the <div /> tag and its descendent \n",
    "# (the other tags within the <div /> element)? This is our parent element. This means that this element holds all \n",
    "# of the other elements within it, and we'll reference it when we want to filter search results even further. \n",
    "# The . is used for selecting classes, such as list_text, so the code 'div.list_text' pinpoints the <div /> tag \n",
    "# with the class of list_text. CSS works from right to left, such as returning the last item on the list \n",
    "# instead of the first. Because of this, when using select_one, the first matching element returned \n",
    "# will be a <li /> element with a class of slide and all nested elements within it."
   ]
  },
  {
   "cell_type": "code",
   "execution_count": null,
   "id": "22bef9a5",
   "metadata": {},
   "outputs": [],
   "source": [
    "# drill down on the 'slide_elem' variable to find only the title, which lives in 'content_title' class\n",
    "\n",
    "slide_elem.find('div', class_='content_title')"
   ]
  },
  {
   "cell_type": "code",
   "execution_count": null,
   "id": "8e4bba14",
   "metadata": {},
   "outputs": [],
   "source": [
    "# chain get_text() method to find() and save it as `news_title`\n",
    "news_title = slide_elem.find('div', class_='content_title').get_text()\n",
    "news_title"
   ]
  },
  {
   "cell_type": "code",
   "execution_count": null,
   "id": "18671a81",
   "metadata": {},
   "outputs": [],
   "source": [
    "# now use similar code to scrape the teaser paragraph\n",
    "news_p = slide_elem.find('div',class_='article_teaser_body').get_text()\n",
    "news_p"
   ]
  },
  {
   "cell_type": "markdown",
   "id": "1b04fd0e",
   "metadata": {},
   "source": [
    "##########################\n",
    "# 10.3.4\n",
    "# Scrape Mars Data: Featured Image\n",
    "##########################"
   ]
  },
  {
   "cell_type": "markdown",
   "id": "cb67532b",
   "metadata": {},
   "source": [
    "# Feature Images\n"
   ]
  },
  {
   "cell_type": "code",
   "execution_count": 16,
   "id": "f3894826",
   "metadata": {},
   "outputs": [],
   "source": [
    "# Visit URL\n",
    "url4 = 'https://spaceimages-mars.com'\n",
    "browser.visit(url4)"
   ]
  },
  {
   "cell_type": "code",
   "execution_count": 15,
   "id": "a7713ac7",
   "metadata": {},
   "outputs": [],
   "source": [
    "# Find and click the full image button - it's 2 of 9 'button' tags found in the doc, so we'll use the [1] index\n",
    "full_image_elem = browser.find_by_tag('button')[1]\n",
    "full_image_elem.click()"
   ]
  },
  {
   "cell_type": "code",
   "execution_count": 12,
   "id": "9b6bf514",
   "metadata": {},
   "outputs": [],
   "source": [
    "# now that we're on the page with the full image, now we parse\n",
    "html4 = browser.html\n",
    "img_soup = soup(html4, 'html.parser')"
   ]
  },
  {
   "cell_type": "code",
   "execution_count": 13,
   "id": "7aee2a21",
   "metadata": {},
   "outputs": [
    {
     "data": {
      "text/plain": [
       "'image/featured/mars2.jpg'"
      ]
     },
     "execution_count": 13,
     "metadata": {},
     "output_type": "execute_result"
    }
   ],
   "source": [
    "# find the image URL\n",
    "img_url = img_soup.find('img', class_='fancybox-image').get('src')\n",
    "img_url"
   ]
  },
  {
   "cell_type": "code",
   "execution_count": null,
   "id": "0a4ecab8",
   "metadata": {},
   "outputs": [],
   "source": [
    "# append this to the base url for a full url\n",
    "img_url_full = f'https://https://spaceimages-mars.com/{img_url}'\n",
    "img_url_full"
   ]
  },
  {
   "cell_type": "markdown",
   "id": "5ab9bf7b",
   "metadata": {},
   "source": [
    "##########################\n",
    "# 10.3.5\n",
    "# Scrape Mars Data: Mars Facts\n",
    "##########################"
   ]
  },
  {
   "cell_type": "code",
   "execution_count": null,
   "id": "4224d569",
   "metadata": {},
   "outputs": [],
   "source": [
    "import pandas as pd"
   ]
  },
  {
   "cell_type": "code",
   "execution_count": null,
   "id": "9cc70845",
   "metadata": {},
   "outputs": [],
   "source": [
    "df = pd.read_html('https://galaxyfacts-mars.com')[0]\n",
    "df.columns=['description', 'Mars', 'Earth']\n",
    "df.set_index('description', inplace=True)\n",
    "df"
   ]
  },
  {
   "cell_type": "code",
   "execution_count": null,
   "id": "d5c89f8e",
   "metadata": {},
   "outputs": [],
   "source": [
    "df2 = pd.read_html('https://galaxyfacts-mars.com')[0]\n",
    "df2"
   ]
  },
  {
   "cell_type": "code",
   "execution_count": null,
   "id": "6a1f0e10",
   "metadata": {},
   "outputs": [],
   "source": [
    "df.to_html()"
   ]
  },
  {
   "cell_type": "code",
   "execution_count": null,
   "id": "960f975f",
   "metadata": {},
   "outputs": [],
   "source": [
    "browser.quit()"
   ]
  },
  {
   "cell_type": "code",
   "execution_count": null,
   "id": "1238f707",
   "metadata": {},
   "outputs": [],
   "source": []
  },
  {
   "cell_type": "code",
   "execution_count": null,
   "id": "61a0db8e",
   "metadata": {},
   "outputs": [],
   "source": [
    "#### Stopped at 10.4.1 because i cant figure out how to use the terminal in the way that they are suggesting..."
   ]
  },
  {
   "cell_type": "code",
   "execution_count": null,
   "id": "d40e288e",
   "metadata": {},
   "outputs": [],
   "source": []
  },
  {
   "cell_type": "code",
   "execution_count": null,
   "id": "61664421",
   "metadata": {},
   "outputs": [],
   "source": []
  },
  {
   "cell_type": "code",
   "execution_count": null,
   "id": "6f8a7ff7",
   "metadata": {},
   "outputs": [],
   "source": []
  },
  {
   "cell_type": "code",
   "execution_count": null,
   "id": "c42255a4",
   "metadata": {},
   "outputs": [],
   "source": []
  },
  {
   "cell_type": "code",
   "execution_count": null,
   "id": "63ffee3a",
   "metadata": {},
   "outputs": [],
   "source": []
  },
  {
   "cell_type": "code",
   "execution_count": null,
   "id": "6eeef650",
   "metadata": {},
   "outputs": [],
   "source": []
  },
  {
   "cell_type": "code",
   "execution_count": null,
   "id": "ae9c4751",
   "metadata": {},
   "outputs": [],
   "source": []
  },
  {
   "cell_type": "code",
   "execution_count": null,
   "id": "6c0f3418",
   "metadata": {},
   "outputs": [],
   "source": []
  },
  {
   "cell_type": "code",
   "execution_count": null,
   "id": "f79d145c",
   "metadata": {},
   "outputs": [],
   "source": []
  },
  {
   "cell_type": "code",
   "execution_count": null,
   "id": "13b3d395",
   "metadata": {},
   "outputs": [],
   "source": []
  },
  {
   "cell_type": "code",
   "execution_count": null,
   "id": "bfa1c09e",
   "metadata": {},
   "outputs": [],
   "source": []
  },
  {
   "cell_type": "code",
   "execution_count": null,
   "id": "cf2d0009",
   "metadata": {},
   "outputs": [],
   "source": []
  },
  {
   "cell_type": "code",
   "execution_count": null,
   "id": "36c13559",
   "metadata": {},
   "outputs": [],
   "source": []
  },
  {
   "cell_type": "code",
   "execution_count": null,
   "id": "8c24c565",
   "metadata": {},
   "outputs": [],
   "source": []
  },
  {
   "cell_type": "code",
   "execution_count": null,
   "id": "c447b833",
   "metadata": {},
   "outputs": [],
   "source": []
  },
  {
   "cell_type": "code",
   "execution_count": null,
   "id": "e201b00e",
   "metadata": {},
   "outputs": [],
   "source": []
  }
 ],
 "metadata": {
  "kernelspec": {
   "display_name": "PythonData",
   "language": "python",
   "name": "pythondata"
  },
  "language_info": {
   "codemirror_mode": {
    "name": "ipython",
    "version": 3
   },
   "file_extension": ".py",
   "mimetype": "text/x-python",
   "name": "python",
   "nbconvert_exporter": "python",
   "pygments_lexer": "ipython3",
   "version": "3.7.10"
  }
 },
 "nbformat": 4,
 "nbformat_minor": 5
}
